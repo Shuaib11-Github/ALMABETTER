{
  "nbformat": 4,
  "nbformat_minor": 0,
  "metadata": {
    "kernelspec": {
      "display_name": "Python 3",
      "language": "python",
      "name": "python3"
    },
    "language_info": {
      "codemirror_mode": {
        "name": "ipython",
        "version": 3
      },
      "file_extension": ".py",
      "mimetype": "text/x-python",
      "name": "python",
      "nbconvert_exporter": "python",
      "pygments_lexer": "ipython3",
      "version": "3.7.1"
    },
    "colab": {
      "name": "Guided Project - Intersection of Lists.ipynb",
      "provenance": [],
      "collapsed_sections": [],
      "include_colab_link": true
    }
  },
  "cells": [
    {
      "cell_type": "markdown",
      "metadata": {
        "id": "view-in-github",
        "colab_type": "text"
      },
      "source": [
        "<a href=\"https://colab.research.google.com/github/Shuaib11-Github/ALMABETTER/blob/main/Guided_Project_Intersection_of_Lists.ipynb\" target=\"_parent\"><img src=\"https://colab.research.google.com/assets/colab-badge.svg\" alt=\"Open In Colab\"/></a>"
      ]
    },
    {
      "cell_type": "markdown",
      "metadata": {
        "id": "rtBrwN-Aexbo"
      },
      "source": [
        "Given a list of n lists, write a function which returns the intersection of all the n lists. Each list can have any number of elements.\n",
        "\n",
        "Example 1:\n",
        "\n",
        "```\n",
        "input = [[5, 5, 5, 8, 10], \n",
        "      [5, 5, 7, 8], \n",
        "      [5, 5, 8, 9, 11]]\n",
        "```\n",
        "\n",
        "```\n",
        "output = [5, 5, 8]\n",
        "```\n",
        "\n",
        "Example 2:\n",
        "\n",
        "```\n",
        "input = [[5, 6], \n",
        "      [5, 5, 7, 8], \n",
        "      [5, 5, 8, 9]]\n",
        "```\n",
        "\n",
        "\n",
        "```\n",
        "output = [5]\n",
        "```"
      ]
    },
    {
      "cell_type": "code",
      "source": [
        "input1 = [[5, 5, 5, 8, 10], \n",
        "      [5, 5, 7, 8], \n",
        "      [5, 5, 8, 9, 11]]\n",
        "\n",
        "input2 = [[5, 6], \n",
        "      [5, 5, 7, 8], \n",
        "      [5, 5, 8, 9]]"
      ],
      "metadata": {
        "id": "MsIiqdxT2uGk"
      },
      "execution_count": 93,
      "outputs": []
    },
    {
      "cell_type": "code",
      "source": [
        "def get_min_len_list(list_of_lists):\n",
        "\n",
        "  ''' This function takes list of lists as input and return the list with least number of elements. '''\n",
        "\n",
        "  min_len = len(input1[0])\n",
        "  min_len_list = input1[0]\n",
        "\n",
        "  for list_ in input1:\n",
        "    if len(list_) < min_len:\n",
        "      min_len = len(list_)\n",
        "      min_len_list = list_\n",
        "\n",
        "  return min_len_list"
      ],
      "metadata": {
        "id": "OUBv34H-ACLq"
      },
      "execution_count": 113,
      "outputs": []
    },
    {
      "cell_type": "code",
      "source": [
        "def get_frequency_map(list_):\n",
        "\n",
        "  ''' This function creates frequency map for any given list. '''\n",
        "\n",
        "  frequency_map = {}\n",
        "\n",
        "  for elem in list_:\n",
        "    if elem in frequency_map.keys():\n",
        "      frequency_map[elem] = frequency_map[elem] + 1\n",
        "    else:\n",
        "      frequency_map[elem] = 1\n",
        "  return frequency_map"
      ],
      "metadata": {
        "id": "ESZySUr3IKWQ"
      },
      "execution_count": 114,
      "outputs": []
    },
    {
      "cell_type": "code",
      "source": [
        "min_len_list_frequency_map = get_frequency_map(min_len_list)\n",
        "min_len_list_frequency_map"
      ],
      "metadata": {
        "colab": {
          "base_uri": "https://localhost:8080/"
        },
        "id": "a02NoOvUY4yv",
        "outputId": "da7fcd8a-8f8f-4e92-d09d-4ee868733142"
      },
      "execution_count": 115,
      "outputs": [
        {
          "output_type": "execute_result",
          "data": {
            "text/plain": [
              "{5: 2, 7: 1, 8: 1}"
            ]
          },
          "metadata": {},
          "execution_count": 115
        }
      ]
    },
    {
      "cell_type": "code",
      "source": [
        "def create_list_from_frequency_map(frequency_map):\n",
        "\n",
        "  ''' This function creates a list from a frequency map. '''\n",
        "\n",
        "  final_list = []\n",
        "  for key, value in frequency_map.items():\n",
        "    final_list = final_list + [key] * value\n",
        "  return final_list\n",
        "\n",
        "create_list_from_frequency_map(min_len_list_frequency_map)"
      ],
      "metadata": {
        "colab": {
          "base_uri": "https://localhost:8080/"
        },
        "id": "deNZBfXCbLAv",
        "outputId": "ac017d67-b8f5-4627-9951-2b4420ad979c"
      },
      "execution_count": 116,
      "outputs": [
        {
          "output_type": "execute_result",
          "data": {
            "text/plain": [
              "[5, 5, 7, 8]"
            ]
          },
          "metadata": {},
          "execution_count": 116
        }
      ]
    },
    {
      "cell_type": "code",
      "source": [
        "def intersection(list_of_lists):\n",
        "  \n",
        "  ''' This function returns the intersection of list of lists. '''\n",
        "\n",
        "  min_len_list = get_min_len_list(list_of_lists)\n",
        "  min_len_list_frequency_map = get_frequency_map(min_len_list)\n",
        "\n",
        "  for key, value in min_len_list_frequency_map.items():\n",
        "    for list_ in list_of_lists:\n",
        "      if value > list_.count(key):\n",
        "        min_len_list_frequency_map[key] = list_.count(key)\n",
        "\n",
        "  final_list = create_list_from_frequency_map(min_len_list_frequency_map)\n",
        "  return final_list"
      ],
      "metadata": {
        "id": "0_BPhHf9gkzd"
      },
      "execution_count": 104,
      "outputs": []
    },
    {
      "cell_type": "code",
      "source": [
        "intersection(input1)"
      ],
      "metadata": {
        "colab": {
          "base_uri": "https://localhost:8080/"
        },
        "id": "8HVoETtOdVqp",
        "outputId": "af0a562d-2303-44bc-c17e-7126b8ec2940"
      },
      "execution_count": 105,
      "outputs": [
        {
          "output_type": "execute_result",
          "data": {
            "text/plain": [
              "[5, 5, 8]"
            ]
          },
          "metadata": {},
          "execution_count": 105
        }
      ]
    },
    {
      "cell_type": "code",
      "source": [
        "intersection(input2)"
      ],
      "metadata": {
        "colab": {
          "base_uri": "https://localhost:8080/"
        },
        "id": "_i6m7TF1h6_U",
        "outputId": "306ce28e-37dc-4a63-cfa7-cd9d0da2199e"
      },
      "execution_count": 106,
      "outputs": [
        {
          "output_type": "execute_result",
          "data": {
            "text/plain": [
              "[5]"
            ]
          },
          "metadata": {},
          "execution_count": 106
        }
      ]
    },
    {
      "cell_type": "code",
      "source": [
        ""
      ],
      "metadata": {
        "id": "Ng80vA3sii4V"
      },
      "execution_count": null,
      "outputs": []
    }
  ]
}