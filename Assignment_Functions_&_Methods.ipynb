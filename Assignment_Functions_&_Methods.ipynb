{
  "nbformat": 4,
  "nbformat_minor": 0,
  "metadata": {
    "colab": {
      "name": "Assignment - Functions & Methods.ipynb",
      "provenance": [],
      "collapsed_sections": [],
      "include_colab_link": true
    },
    "kernelspec": {
      "display_name": "Python 3",
      "language": "python",
      "name": "python3"
    },
    "language_info": {
      "codemirror_mode": {
        "name": "ipython",
        "version": 3
      },
      "file_extension": ".py",
      "mimetype": "text/x-python",
      "name": "python",
      "nbconvert_exporter": "python",
      "pygments_lexer": "ipython3",
      "version": "3.7.3"
    }
  },
  "cells": [
    {
      "cell_type": "markdown",
      "metadata": {
        "id": "view-in-github",
        "colab_type": "text"
      },
      "source": [
        "<a href=\"https://colab.research.google.com/github/Shuaib11-Github/ALMABETTER/blob/main/Assignment_Functions_%26_Methods.ipynb\" target=\"_parent\"><img src=\"https://colab.research.google.com/assets/colab-badge.svg\" alt=\"Open In Colab\"/></a>"
      ]
    },
    {
      "cell_type": "markdown",
      "metadata": {
        "id": "Aq5jjKHb-zdZ"
      },
      "source": [
        "# <u> Problem 1</u>\n",
        "\n",
        "### Write a function which takes the excel column name as an input and returns the corresponding column number. A few examples are :\n",
        "\n",
        "* column name = <code>'J'</code> , column number = <code>10</code>\n",
        "* column name = <code>'AP'</code> , column number = <code>42</code>\n",
        "* column name = <code>'AAA'</code>, column number = <code>703</code>\n"
      ]
    },
    {
      "cell_type": "code",
      "metadata": {
        "id": "Un0QXOa3-zdb"
      },
      "source": [
        "def get_excel_column_number(column_name):\n",
        "  '''\n",
        "  This functions returns the corresponding column number for an excel column name\n",
        "  '''\n",
        "  # Write your code here\n",
        "  alphabets = [char.upper() for char in 'abcdefghijklmnopqrstuvwxyz']\n",
        "  numbers = list(range(1,27))\n",
        "\n",
        "  alphabet_dict = dict(zip(alphabets, numbers))\n",
        "  numbers_list = [alphabet_dict[char]*26**i for i, char in enumerate(column_name[::-1])]\n",
        "\n",
        "  return sum(numbers_list)  "
      ],
      "execution_count": 3,
      "outputs": []
    },
    {
      "cell_type": "code",
      "metadata": {
        "id": "VFSrFUwP-zdd",
        "colab": {
          "base_uri": "https://localhost:8080/"
        },
        "outputId": "98bd0dc0-2c1a-4005-bd61-5ace3c687350"
      },
      "source": [
        "# Check\n",
        "get_excel_column_number('BD')"
      ],
      "execution_count": 4,
      "outputs": [
        {
          "output_type": "execute_result",
          "data": {
            "text/plain": [
              "56"
            ]
          },
          "metadata": {},
          "execution_count": 4
        }
      ]
    },
    {
      "cell_type": "code",
      "metadata": {
        "id": "AZaQlyAc-zde",
        "colab": {
          "base_uri": "https://localhost:8080/"
        },
        "outputId": "9c9aea10-5bfe-429d-aa1f-4cf33379d00d"
      },
      "source": [
        "# Check\n",
        "get_excel_column_number('ALQ')"
      ],
      "execution_count": 5,
      "outputs": [
        {
          "output_type": "execute_result",
          "data": {
            "text/plain": [
              "1005"
            ]
          },
          "metadata": {},
          "execution_count": 5
        }
      ]
    },
    {
      "cell_type": "markdown",
      "metadata": {
        "id": "zh_MA_BN-zd5"
      },
      "source": [
        "# <u> Problem 2</u>\n",
        "\n",
        "### We evaluate a standard machine learning classification model using various evaluation metrics. A classification model is a model which classifies a given observation or an event to a fixed set of categories. Suppose I train a machine learning model to classify images of cats and dogs. For each image, the machine classifies the image with either a <code>'Cat'</code> or a <code>'Dog'</code>. So in essence for each input image, there is a corresponding output by the model. This output can either be a <code>'Cat'</code> or a <code>'Dog'</code>.\n",
        "\n",
        "### To evaluate such a machine learning model which is trained to classify a given observation with at most two labels, a lot of candidate evaluation metrics are available. Accuracy is one of such evaluation metrics. \n",
        "\n",
        "### <u> Accuracy defintion </u> : Suppose you are given 20 input images of cats and dogs. You already know from these images that there are 11 cats and 9 dogs. You train a machine learning model to classify these images into cats and dogs. The machine predicts 9 cats correctly and 8 dogs correctly. The accuracy of the model is then defined as (correctly predicted cats and dogs)/(total cats and dogs). In this case it is (9+8)/(11+9) = 17/20 = 0.85 or 85%. It is a good practice to report the accuracy in percentages\n",
        "\n"
      ]
    },
    {
      "cell_type": "markdown",
      "metadata": {
        "id": "cp2SUazju_D7"
      },
      "source": [
        "### You are given two lists each of length 20 : one list contains the actual labels for the images of cats and dogs. The other list contains the predicted labels (by the machine) for the images of cats and dogs.\n",
        "\n",
        "### How to read the two lists ? For example for the first image, actual label is Cat and the predicted label is Cat. For the last image, actual label is Dog and the predicted label is Cat. The same index in the two lists corresponds to the same image"
      ]
    },
    {
      "cell_type": "code",
      "metadata": {
        "id": "BPsQbNPjvjAT"
      },
      "source": [
        "actual_labels = ['Cat','Dog','Cat','Cat','Dog','Cat','Dog','Cat','Cat','Cat','Dog','Dog','Cat','Cat','Cat','Dog','Dog','Dog','Cat','Dog']"
      ],
      "execution_count": 6,
      "outputs": []
    },
    {
      "cell_type": "code",
      "metadata": {
        "id": "MDefeYf1v4pT"
      },
      "source": [
        "predicted_labels = ['Cat','Dog','Cat','Cat','Dog','Cat','Dog','Cat','Dog','Dog','Dog','Dog','Cat','Cat','Cat','Dog','Dog','Dog','Cat','Cat']"
      ],
      "execution_count": 7,
      "outputs": []
    },
    {
      "cell_type": "markdown",
      "metadata": {
        "id": "hzLROuvWwZAL"
      },
      "source": [
        "### Write a function to calculate the accuracy. This functions takes two lists as inputs and returns the accuracy score in percentage"
      ]
    },
    {
      "cell_type": "code",
      "metadata": {
        "id": "HvDJXfL3-zd6"
      },
      "source": [
        "def calculate_accuracy(actual, predicted):\n",
        "  '''\n",
        "  This functions calculates the accuracy based on two input lists\n",
        "  '''\n",
        "  # Write your code here\n",
        "  zipped_list = zip(actual, predicted)\n",
        "\n",
        "  correct_pred = sum([act==pred for act, pred in zipped_list])\n",
        "\n",
        "  return correct_pred/len(predicted) * 100"
      ],
      "execution_count": 14,
      "outputs": []
    },
    {
      "cell_type": "code",
      "metadata": {
        "id": "At0m0hcc-zd_",
        "colab": {
          "base_uri": "https://localhost:8080/"
        },
        "outputId": "67daf52e-1ba8-4296-ecd4-69e2ffe3a3b9"
      },
      "source": [
        "# Print the accuracy score for the given lists\n",
        "print(calculate_accuracy(actual_labels, predicted_labels))"
      ],
      "execution_count": 15,
      "outputs": [
        {
          "output_type": "stream",
          "name": "stdout",
          "text": [
            "85.0\n"
          ]
        }
      ]
    },
    {
      "cell_type": "markdown",
      "metadata": {
        "id": "YyYwXAlax36r"
      },
      "source": [
        "* ### <b><u>Precision</u></b> for cats is defined as the number of correctly predicted cats divided by the number of predicted cats. Report precision in percentages.\n",
        "\n",
        "* ### <b><u>Recall</u></b> for cats is defined as the number of correctly predicted cats divided by the actual number of cats. Report recall in percentages.\n",
        "\n",
        "### We can define the same two metrics for dogs as well. \n"
      ]
    },
    {
      "cell_type": "markdown",
      "metadata": {
        "id": "VwYIek-9yd4n"
      },
      "source": [
        "# <u> Problem 3 </u> \n",
        "\n",
        "### Write a Python function which returns the precision and recall for a given input label. Use the same two lists"
      ]
    },
    {
      "cell_type": "code",
      "metadata": {
        "id": "SojiZTMSyY4T"
      },
      "source": [
        "def precision_recall(label = 'Dog'):\n",
        "  '''\n",
        "  This functions returns a tuple of precision and recall for a given input label\n",
        "  '''\n",
        "  # Your code here\n",
        "  number_of_predicted_dogs = sum([True for i in predicted_labels if i == 'Dog'])\n",
        "  number_of_actual_dogs = sum(True for i in actual_labels if i == 'Dog')\n",
        "   \n",
        "  zipped_list = zip(actual_labels, predicted_labels)\n",
        "  number_of_correctly_predicted_dogs = sum([act==pred for act, pred in zipped_list if act and pred == 'Dog'])\n",
        "  \n",
        "  precision = number_of_correctly_predicted_dogs / number_of_predicted_dogs * 100\n",
        "  recall = number_of_correctly_predicted_dogs / number_of_actual_dogs * 100\n",
        "\n",
        "  return (precision, recall)"
      ],
      "execution_count": 20,
      "outputs": []
    },
    {
      "cell_type": "code",
      "source": [
        "precision_recall()"
      ],
      "metadata": {
        "colab": {
          "base_uri": "https://localhost:8080/"
        },
        "id": "tXN0YAuv1U7E",
        "outputId": "b7c8e54a-c5d7-4fb8-d068-f2724e813bcb"
      },
      "execution_count": 22,
      "outputs": [
        {
          "output_type": "execute_result",
          "data": {
            "text/plain": [
              "(80.0, 88.88888888888889)"
            ]
          },
          "metadata": {},
          "execution_count": 22
        }
      ]
    },
    {
      "cell_type": "markdown",
      "metadata": {
        "id": "I-5eBWXa1Mla"
      },
      "source": [
        "# <u> Problem 4 </u>\n",
        "\n",
        "### Write a Python function which takes a sentence and a length value as inputs and returns the counts of those words from the sentence whose length is equal to the provided input length value.\n",
        "\n",
        "### Suppose if the input for the length value is 5, it will return the count of all those words which are of length 5"
      ]
    },
    {
      "cell_type": "code",
      "metadata": {
        "id": "9ueu9nJx1uUZ"
      },
      "source": [
        "marvel_quote = \"The world has changed and none of us can go back. All we can do is our best, and sometimes the best that we can do is to start over.\""
      ],
      "execution_count": 29,
      "outputs": []
    },
    {
      "cell_type": "code",
      "metadata": {
        "id": "9OPAUOCT2VQW"
      },
      "source": [
        "# Your function below. Make sure to remove the special characters such as full stop and comma.\n",
        "def fixed_length_word_counts(sentence, length=3):\n",
        "  '''\n",
        "  This function returns the count of the words with the given input length\n",
        "  '''\n",
        "  # Your code below\n",
        "  sentence = sentence.replace(',','').replace('.','').split()\n",
        "  count = 0\n",
        "\n",
        "  for i in sentence:\n",
        "    if len(i) == length:\n",
        "      count += 1 \n",
        "  return count"
      ],
      "execution_count": 38,
      "outputs": []
    },
    {
      "cell_type": "code",
      "metadata": {
        "id": "Px7OQG0j2iab",
        "colab": {
          "base_uri": "https://localhost:8080/"
        },
        "outputId": "3ad0ccb2-bfdb-4c26-8746-3f1e7f5dcbfb"
      },
      "source": [
        "# Check on the sample sentence\n",
        "fixed_length_word_counts(marvel_quote, length = 5)"
      ],
      "execution_count": 40,
      "outputs": [
        {
          "output_type": "execute_result",
          "data": {
            "text/plain": [
              "2"
            ]
          },
          "metadata": {},
          "execution_count": 40
        }
      ]
    },
    {
      "cell_type": "code",
      "source": [
        ""
      ],
      "metadata": {
        "id": "hZVTlD9T2j18"
      },
      "execution_count": null,
      "outputs": []
    }
  ]
}