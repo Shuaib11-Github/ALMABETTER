{
  "nbformat": 4,
  "nbformat_minor": 0,
  "metadata": {
    "kernelspec": {
      "display_name": "Python 3",
      "language": "python",
      "name": "python3"
    },
    "language_info": {
      "codemirror_mode": {
        "name": "ipython",
        "version": 3
      },
      "file_extension": ".py",
      "mimetype": "text/x-python",
      "name": "python",
      "nbconvert_exporter": "python",
      "pygments_lexer": "ipython3",
      "version": "3.7.4"
    },
    "colab": {
      "name": "Assignment  - Production Grade Programming I.ipynb",
      "provenance": [],
      "collapsed_sections": [],
      "include_colab_link": true
    }
  },
  "cells": [
    {
      "cell_type": "markdown",
      "metadata": {
        "id": "view-in-github",
        "colab_type": "text"
      },
      "source": [
        "<a href=\"https://colab.research.google.com/github/Shuaib11-Github/ALMABETTER/blob/main/Assignment_Production_Grade_Programming_I.ipynb\" target=\"_parent\"><img src=\"https://colab.research.google.com/assets/colab-badge.svg\" alt=\"Open In Colab\"/></a>"
      ]
    },
    {
      "cell_type": "markdown",
      "metadata": {
        "id": "8WbUJEVzs8Bx"
      },
      "source": [
        "## <u>While doing this assignment only use those concepts which have been taught till now</u>"
      ]
    },
    {
      "cell_type": "markdown",
      "metadata": {
        "id": "77zLnpaNvNSp"
      },
      "source": [
        "# <u> Problem 1</u>\n",
        "\n",
        "### Create a class <code>Cylinder</code> which takes two attributes <code>radius</code> and <code>height</code>.\n",
        "\n",
        "### Create the following methods in this class:\n",
        "\n",
        "* ### method <code>volume()</code> which calculates the volume of the cyinder which is defined as $V  = \\pi r^2 h$\n",
        "\n",
        "* ### method <code>surface_area()</code> which calculates the area of the cyinder which is defined as $S  = 2\\pi r h$. Assume this is an open cylinder\n"
      ]
    },
    {
      "cell_type": "code",
      "metadata": {
        "id": "-cWkCZ5OzX0G"
      },
      "source": [
        "# Write your code below. Take pi as 3.14\n",
        "class Cylinder:\n",
        "\n",
        "  def __init__(self, radius, height):\n",
        "    self.radius = radius\n",
        "    self.height = height\n",
        "\n",
        "  def volume(self):\n",
        "    return 3.14 * (self.radius)**2 * self.height\n",
        "\n",
        "  def surface_area(self):\n",
        "    return 2 * 3.14 * self.radius * self.height "
      ],
      "execution_count": 8,
      "outputs": []
    },
    {
      "cell_type": "code",
      "metadata": {
        "id": "tgS3mhN-18b_",
        "colab": {
          "base_uri": "https://localhost:8080/"
        },
        "outputId": "390a335a-48d3-4ad5-c405-1a90e0cf6413"
      },
      "source": [
        "# Check for sample inputs\n",
        "sample_cylinder = Cylinder(10,10)\n",
        "print(sample_cylinder.height)\n",
        "print(sample_cylinder.radius)\n",
        "\n",
        "print(sample_cylinder.volume())\n",
        "\n",
        "print(sample_cylinder.surface_area())"
      ],
      "execution_count": 13,
      "outputs": [
        {
          "output_type": "stream",
          "name": "stdout",
          "text": [
            "10\n",
            "10\n",
            "3140.0\n",
            "628.0\n"
          ]
        }
      ]
    },
    {
      "cell_type": "markdown",
      "metadata": {
        "id": "KjPWYK0Rs8By"
      },
      "source": [
        "## <u>Problem 2</u>\n",
        "\n",
        "### You started your own money wallet where your customers can create their accounts and they can either deposit or withdraw money from this wallet.\n",
        "\n",
        "### Write a Python class <code>BankAccount</code> which takes the balance as an attribute. You can initialize the balance with 0 because any new account will have 0 rupees in their wallet. Next write two methods for your class :\n",
        "\n",
        "* #### <code>withdraw()</code> method which takes the amount to be withdrawn as an argument and returns the balance after the withdrawal\n",
        "\n",
        "* #### <code>deposit()</code> method which takes the amount to be deposited as an argument and returns the balance after the deposit.\n",
        "\n",
        "### Keep in mind that if the balance to be withdrawn exceeds the current balance, it should display a message that \"Not enough balance in your account\"\n"
      ]
    },
    {
      "cell_type": "code",
      "metadata": {
        "id": "RxVZTrenzfHC"
      },
      "source": [
        "# Write your BankAccount class below \n",
        "\n",
        "class BankAccount:\n",
        "\n",
        "  def __init__(self, balance=0):\n",
        "    self.balance = balance\n",
        "\n",
        "  def deposit(self, amount):\n",
        "    self.balance += amount \n",
        "    return self.balance\n",
        "\n",
        "  def withdraw(self, amount):\n",
        "    if amount < self.balance: \n",
        "      self.balance -= amount\n",
        "    else:\n",
        "      print('Not enough Balance')\n",
        "    return self.balance"
      ],
      "execution_count": 43,
      "outputs": []
    },
    {
      "cell_type": "code",
      "metadata": {
        "id": "N1Yhpkiws8B3"
      },
      "source": [
        "# Create two instances of this class for two customers\n",
        "messi_account = BankAccount()\n",
        "\n",
        "ronaldo_account = BankAccount(100000)"
      ],
      "execution_count": 44,
      "outputs": []
    },
    {
      "cell_type": "markdown",
      "metadata": {
        "id": "mSTxPcO3fWeX"
      },
      "source": [
        "### Next add some amount and withdraw some another amount for both the customers."
      ]
    },
    {
      "cell_type": "code",
      "metadata": {
        "id": "KpMdlB5Fs8B8",
        "colab": {
          "base_uri": "https://localhost:8080/"
        },
        "outputId": "517cc791-27d7-4d75-d7bc-d7b64ccc3a2a"
      },
      "source": [
        "# Deposit some amount and withdrawing some amount from the two accounts and check if your method works fine\n",
        "messi_deposit = messi_account.deposit(1000)\n",
        "print(f'Available amount to withdraw: {messi_deposit}')\n",
        "\n",
        "messi_withdraw = messi_account.withdraw(500)\n",
        "print(f'Balance available to withdraw: {messi_withdraw}')\n",
        "\n",
        "ronaldo_deposit = ronaldo_account.deposit(1000)\n",
        "print(f'Available amount to withdraw: {ronaldo_deposit}')\n",
        "\n",
        "ronaldo_withdraw = ronaldo_account.withdraw(500)\n",
        "print(f'Balance available to withdraw: {ronaldo_withdraw}')"
      ],
      "execution_count": 45,
      "outputs": [
        {
          "output_type": "stream",
          "name": "stdout",
          "text": [
            "Available amount to withdraw: 1000\n",
            "Balance available to withdraw: 500\n",
            "Available amount to withdraw: 101000\n",
            "Balance available to withdraw: 100500\n"
          ]
        }
      ]
    },
    {
      "cell_type": "markdown",
      "metadata": {
        "id": "5qd8g8UUs8CM"
      },
      "source": [
        "## <u>Problem 3 </u>\n",
        "\n",
        "### Create a class <code>Time </code> which takes two inputs hours and minutes to instantiate.\n",
        "*  #### Construct a method <code>DisplayTime()</code> which displays the time in AM/PM formats. For example if the input is 14 hours and 45 mins, then this method will print \"The time is 2:45 PM\". If the inputted hours exceeds 23 then print the message \"The input hours should be less than 24\" and if the inputted minutes exceeds 59 then print the message \"The input minutes should be less than 60.\" Also if the input is 12 hours 30 minutes, then the displayed time would be 12:30 PM\n",
        "* #### Construct a method <code>DisplayRatio()</code> which should display the ratio of minutes to hours. For example, (8 hours and  16 mins) should display 2. Use <code>try</code>, <code>except</code> block to account for ZeroDivisionError."
      ]
    },
    {
      "cell_type": "code",
      "metadata": {
        "id": "FBJy9Sq_s8CN"
      },
      "source": [
        "class Time:\n",
        "\n",
        "  def __init__(self, hours, mins):\n",
        "    self.hours = hours\n",
        "    self.mins = mins\n",
        "\n",
        "  def DisplayTime(self):\n",
        "    if (self.hours > 23) or (self.mins > 59):\n",
        "      print('The input hours should be less then 24 and the input mintes should be less than 59')\n",
        "    else:\n",
        "      if (self.hours < 12) and (self.mins < 59):\n",
        "        time_to_display = str(self.hours) + ':' + str(self.mins) + 'AM'\n",
        "        print(f'The time is {time_to_display}')\n",
        "      elif (self.hours == 12) and (self.mins < 60):\n",
        "        time_to_display = str(self.hours) + ':' + str(self.mins) + 'PM'\n",
        "        print(f'The time is {time_to_display}')\n",
        "      else:\n",
        "        time_to_display = str(self.hours - 12) + ':' + str(self.mins) + 'PM'\n",
        "        print(f'The time is {time_to_display}')\n",
        "\n",
        "  def DisplayRatio(self):\n",
        "    try:\n",
        "      print(self.mins/self.hours)\n",
        "    except:\n",
        "      print('hours should not be equal to zero')"
      ],
      "execution_count": 46,
      "outputs": []
    },
    {
      "cell_type": "code",
      "metadata": {
        "id": "zywXa51d6Eev",
        "colab": {
          "base_uri": "https://localhost:8080/"
        },
        "outputId": "ad9b467b-de4f-4cf3-c9ce-f4223181bfe5"
      },
      "source": [
        "# Check for few sample inputs of hours and mins\n",
        "hour_min_list = [(23,45), (34,50), (12,34), (14,67),(19,20), (2,15), (0, 10)]\n",
        "\n",
        "# Using a for loop display the corresponding 12 hour time format for the above hour_min_list\n",
        "for hour, min in hour_min_list:\n",
        "  time = Time(hour, min)\n",
        "  time.DisplayTime()"
      ],
      "execution_count": 50,
      "outputs": [
        {
          "output_type": "stream",
          "name": "stdout",
          "text": [
            "The time is 11:45PM\n",
            "The input hours should be less then 24 and the input mintes should be less than 59\n",
            "The time is 12:34PM\n",
            "The input hours should be less then 24 and the input mintes should be less than 59\n",
            "The time is 7:20PM\n",
            "The time is 2:15AM\n",
            "The time is 0:10AM\n"
          ]
        }
      ]
    },
    {
      "cell_type": "code",
      "metadata": {
        "id": "mgcu1_SAjAqF",
        "colab": {
          "base_uri": "https://localhost:8080/"
        },
        "outputId": "66261fd6-424c-4781-d4be-17faf9d88d55"
      },
      "source": [
        "# Also display the corresponding ratios for the above list\n",
        "for hour, min in hour_min_list:\n",
        "  time = Time(hour, min)\n",
        "  time.DisplayRatio()"
      ],
      "execution_count": 51,
      "outputs": [
        {
          "output_type": "stream",
          "name": "stdout",
          "text": [
            "1.9565217391304348\n",
            "1.4705882352941178\n",
            "2.8333333333333335\n",
            "4.785714285714286\n",
            "1.0526315789473684\n",
            "7.5\n",
            "hours should not be equal to zero\n"
          ]
        }
      ]
    },
    {
      "cell_type": "code",
      "source": [
        ""
      ],
      "metadata": {
        "id": "0QKJ5_ZgRN20"
      },
      "execution_count": null,
      "outputs": []
    }
  ]
}